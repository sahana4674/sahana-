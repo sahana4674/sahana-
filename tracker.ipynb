{
 "cells": [
  {
   "cell_type": "code",
   "execution_count": 3,
   "id": "1dd816f2-062b-49b0-bea8-4e91bcaea0c2",
   "metadata": {},
   "outputs": [
    {
     "name": "stdout",
     "output_type": "stream",
     "text": [
      "Enter fund name:  fund s\n",
      "Enter start date (YYYY-MM-DD):  2022-02-01\n",
      "Enter end date (YYYY-MM-DD):  2022-12-12\n"
     ]
    },
    {
     "name": "stdout",
     "output_type": "stream",
     "text": [
      "Empty DataFrame\n",
      "Columns: [Fund, Allocation, Allocation Change]\n",
      "Index: []\n"
     ]
    }
   ],
   "source": [
    "import pandas as pd\n",
    "import numpy as np\n",
    "\n",
    "class MutualFundTracker:\n",
    "    def __init__(self, data):\n",
    "        self.data = pd.DataFrame(data)\n",
    "\n",
    "    def process_data(self):\n",
    "        # Convert 'Date' column to datetime format\n",
    "        self.data['Date'] = pd.to_datetime(self.data['Date'])\n",
    "\n",
    "        # Set 'Date' as the index\n",
    "        self.data.set_index('Date', inplace=True)\n",
    "\n",
    "    def get_fund_changes(self, fund_name, start_date, end_date):\n",
    "        # Filter data by fund name and date range\n",
    "        fund_data = self.data[(self.data['Fund'] == fund_name) &\n",
    "                                 (self.data.index >= start_date) &\n",
    "                                 (self.data.index <= end_date)]\n",
    "\n",
    "        # Calculate changes in fund allocations\n",
    "        fund_data['Allocation Change'] = fund_data['Allocation'].diff()\n",
    "\n",
    "        # Display changes by fund and by month\n",
    "        fund_data_monthly = fund_data.resample('ME').mean()\n",
    "\n",
    "        return fund_data_monthly\n",
    "\n",
    "def main():\n",
    "    # Sample data\n",
    "    data = {\n",
    "        'Fund': ['Zerodha Midcap Fund', 'HDFC Top 200 Fund', 'Axis Bluechip Fund'],\n",
    "        'Date': ['2022-01-01', '2022-01-01', '2022-01-01'],\n",
    "        'Allocation': [0.3, 0.2, 0.5]\n",
    "    }\n",
    "\n",
    "    tracker = MutualFundTracker(data)\n",
    "    tracker.process_data()\n",
    "\n",
    "    fund_name = input(\"Enter fund name: \")\n",
    "    start_date = input(\"Enter start date (YYYY-MM-DD): \")\n",
    "    end_date = input(\"Enter end date (YYYY-MM-DD): \")\n",
    "\n",
    "    changes = tracker.get_fund_changes(fund_name, start_date, end_date)\n",
    "    print(changes)\n",
    "\n",
    "if __name__ == \"__main__\":\n",
    "    main()\n",
    "\n"
   ]
  },
  {
   "cell_type": "code",
   "execution_count": null,
   "id": "53fa8136-6cd4-4ac3-a8bc-1cf2adda8675",
   "metadata": {},
   "outputs": [],
   "source": []
  }
 ],
 "metadata": {
  "kernelspec": {
   "display_name": "Python 3 (ipykernel)",
   "language": "python",
   "name": "python3"
  },
  "language_info": {
   "codemirror_mode": {
    "name": "ipython",
    "version": 3
   },
   "file_extension": ".py",
   "mimetype": "text/x-python",
   "name": "python",
   "nbconvert_exporter": "python",
   "pygments_lexer": "ipython3",
   "version": "3.12.2"
  }
 },
 "nbformat": 4,
 "nbformat_minor": 5
}
